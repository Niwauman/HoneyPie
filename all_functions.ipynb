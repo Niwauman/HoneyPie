{
 "cells": [
  {
   "cell_type": "code",
   "execution_count": 6,
   "metadata": {},
   "outputs": [],
   "source": [
    "import pandas as pd\n",
    "import geopandas as gpd\n",
    "import osmnx as ox\n",
    "from shapely import LineString, Point, Polygon\n",
    "from tobler.util import h3fy\n",
    "import math\n",
    "import numpy\n",
    "import pulp\n",
    "import utm\n"
   ]
  },
  {
   "cell_type": "code",
   "execution_count": 7,
   "metadata": {},
   "outputs": [
    {
     "ename": "ModuleNotFoundError",
     "evalue": "No module named 'HoneyPie'",
     "output_type": "error",
     "traceback": [
      "\u001b[1;31m---------------------------------------------------------------------------\u001b[0m",
      "\u001b[1;31mModuleNotFoundError\u001b[0m                       Traceback (most recent call last)",
      "Cell \u001b[1;32mIn[7], line 1\u001b[0m\n\u001b[1;32m----> 1\u001b[0m \u001b[38;5;28;01mimport\u001b[39;00m \u001b[38;5;21;01mHoneyPie\u001b[39;00m\u001b[38;5;21;01m.\u001b[39;00m\u001b[38;5;21;01mstatisticoperations\u001b[39;00m \u001b[38;5;28;01mas\u001b[39;00m \u001b[38;5;21;01mstatistic\u001b[39;00m\n\u001b[0;32m      2\u001b[0m \u001b[38;5;28;01mimport\u001b[39;00m \u001b[38;5;21;01mHoneyPie\u001b[39;00m\u001b[38;5;21;01m.\u001b[39;00m\u001b[38;5;21;01mobjects_location\u001b[39;00m \u001b[38;5;28;01mas\u001b[39;00m \u001b[38;5;21;01mobjects_location\u001b[39;00m\n\u001b[0;32m      3\u001b[0m \u001b[38;5;28;01mimport\u001b[39;00m \u001b[38;5;21;01mHoneyPie\u001b[39;00m\u001b[38;5;21;01m.\u001b[39;00m\u001b[38;5;21;01mdirection\u001b[39;00m \u001b[38;5;28;01mas\u001b[39;00m \u001b[38;5;21;01mdirection\u001b[39;00m\n",
      "\u001b[1;31mModuleNotFoundError\u001b[0m: No module named 'HoneyPie'"
     ]
    }
   ],
   "source": [
    "import HoneyPie.statisticoperations as statistic\n",
    "import HoneyPie.objects_location as objects_location\n",
    "import HoneyPie.direction as direction"
   ]
  },
  {
   "cell_type": "code",
   "execution_count": null,
   "metadata": {},
   "outputs": [],
   "source": [
    "# Define your parameters\n",
    "\n",
    "WIND_DIRECTION = 'south_west' # set an area destination\n",
    "\n",
    "# set percent od every area you need\n",
    "landuse_percent = {\n",
    "    'living': 0.543,\n",
    "    'social': 0.066,\n",
    "    'industrial': 0.061,\n",
    "    'transport': 0.077,\n",
    "    'recreation': 0.253\n",
    "}"
   ]
  },
  {
   "cell_type": "code",
   "execution_count": null,
   "metadata": {},
   "outputs": [],
   "source": [
    "# load files of the territory and city\n",
    "territory = gpd.read_file('example_files/siver.geojson').to_crs('EPSG:4326')\n",
    "\n",
    "city = gpd.read_file('example_files/СНП Сиверского городского поселения.geojson').to_crs('EPSG:4326')\n",
    "region = gpd.read_file('example_files/Сиверское городское поселение.geojson').to_crs('EPSG:4326')\n",
    "\n",
    "# all buildings - living\n",
    "buildings = gpd.read_file('example_files/balanced_buildings.geojson')\n",
    "buildings['building:levels'] = buildings['building:levels'].astype(int)\n",
    "buildings_p = buildings.copy()\n",
    "buildings_p['geometry'] = buildings_p['geometry'].centroid.to_crs('EPSG:4326')"
   ]
  },
  {
   "cell_type": "code",
   "execution_count": null,
   "metadata": {},
   "outputs": [],
   "source": [
    "# CONSTANTS FOR THIS PROJECT\n",
    "utm_system = utm.from_latlon(territory.loc[0, 'geometry'].centroid.y, territory.loc[0, 'geometry'].centroid.x) # find UTM zone\n",
    "LOCAL_CRS = 'EPSG:326' + str(utm_system[2])\n",
    "centre_territory = territory.to_crs(LOCAL_CRS).loc[0, 'geometry'].centroid\n",
    "territory_area_he = territory.to_crs(LOCAL_CRS).area / 10000"
   ]
  },
  {
   "cell_type": "code",
   "execution_count": null,
   "metadata": {},
   "outputs": [],
   "source": [
    "# create hexagones for future analysis hex_area = 1.26 he\n",
    "hex_city = h3fy(city, resolution=10, clip=True, buffer=False, return_geoms=True).reset_index()\n",
    "hex_territory = h3fy(territory, resolution=10, clip=True, buffer=False, return_geoms=True).to_crs(LOCAL_CRS).reset_index()\n",
    "\n",
    "# set_default_parameters\n",
    "hex_territory['landuse'] = 'not_defined'\n",
    "hex_territory['func_zone'] = 'not_defined'\n",
    "\n",
    "hex_territory['score_industrial'] = 0\n",
    "hex_territory['score_social'] = 0\n",
    "hex_territory['score_middle_living'] = 0\n",
    "hex_territory['score_low_living'] = 0\n",
    "hex_territory['score_cottage_living'] = 0\n",
    "hex_territory['score_garden'] = 0\n",
    "hex_territory['score_park'] = 0\n",
    "hex_territory['score_green_buffer'] = 0\n",
    "hex_territory['fixed'] = 0\n",
    "\n",
    "# get base data merge hex and floors\n",
    "for i in range(len(hex_city)):\n",
    "        # Выбор точек внутри полигона\n",
    "    points_within_polygon = buildings_p[buildings_p.geometry.within(hex_city.geometry[i])]\n",
    "    # Группировка значений\n",
    "    grouped_values = points_within_polygon.groupby('is_living')['building:levels'].mean().reset_index()\n",
    "    hex_city.loc[i, 'Floors'] = grouped_values['building:levels'].max()\n",
    "    grouped_values['population'] = 0"
   ]
  },
  {
   "cell_type": "code",
   "execution_count": null,
   "metadata": {},
   "outputs": [],
   "source": []
  }
 ],
 "metadata": {
  "kernelspec": {
   "display_name": ".venv",
   "language": "python",
   "name": "python3"
  },
  "language_info": {
   "codemirror_mode": {
    "name": "ipython",
    "version": 3
   },
   "file_extension": ".py",
   "mimetype": "text/x-python",
   "name": "python",
   "nbconvert_exporter": "python",
   "pygments_lexer": "ipython3",
   "version": "3.11.0"
  }
 },
 "nbformat": 4,
 "nbformat_minor": 2
}

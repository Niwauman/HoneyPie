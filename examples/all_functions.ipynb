{
 "cells": [
  {
   "cell_type": "code",
   "execution_count": null,
   "metadata": {
    "vscode": {
     "languageId": "plaintext"
    }
   },
   "outputs": [],
   "source": [
    "# Define your parameters\n",
    "\n",
    "WIND_DIRECTION = 'south_west' # set an area destination\n",
    "\n",
    "# set percent od every area you need\n",
    "landuse_percent = {\n",
    "    'living': 0.543,\n",
    "    'social': 0.066,\n",
    "    'industrial': 0.061,\n",
    "    'transport': 0.077,\n",
    "    'recreation': 0.253\n",
    "}"
   ]
  },
  {
   "cell_type": "code",
   "execution_count": null,
   "metadata": {
    "vscode": {
     "languageId": "plaintext"
    }
   },
   "outputs": [],
   "source": []
  }
 ],
 "metadata": {
  "language_info": {
   "name": "python"
  }
 },
 "nbformat": 4,
 "nbformat_minor": 2
}

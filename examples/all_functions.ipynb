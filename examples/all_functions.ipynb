{
 "cells": [
  {
   "cell_type": "code",
   "execution_count": null,
   "metadata": {
    "vscode": {
     "languageId": "plaintext"
    }
   },
   "outputs": [],
   "source": [
    "import pandas as pd\n",
    "import geopandas as gpd\n",
    "import osmnx as ox\n",
    "from shapely import LineString, Point, Polygon\n",
    "from tobler.util import h3fy\n",
    "import math\n",
    "import numpy\n",
    "import pulp\n",
    "import utm\n",
    "import statisticoperations as sop\n",
    "import objects_location"
   ]
  },
  {
   "cell_type": "code",
   "execution_count": null,
   "metadata": {
    "vscode": {
     "languageId": "plaintext"
    }
   },
   "outputs": [],
   "source": [
    "# Define your parameters\n",
    "\n",
    "WIND_DIRECTION = 'south_west' # set an area destination\n",
    "\n",
    "# set percent od every area you need\n",
    "landuse_percent = {\n",
    "    'living': 0.543,\n",
    "    'social': 0.066,\n",
    "    'industrial': 0.061,\n",
    "    'transport': 0.077,\n",
    "    'recreation': 0.253\n",
    "}"
   ]
  },
  {
   "cell_type": "code",
   "execution_count": null,
   "metadata": {
    "vscode": {
     "languageId": "plaintext"
    }
   },
   "outputs": [],
   "source": [
    "# load files of the territory and city\n",
    "territory = gpd.read_file('original_data/siver.geojson').to_crs('EPSG:4326')\n",
    "\n",
    "city = gpd.read_file('original_data/СНП Сиверского городского поселения.geojson').to_crs('EPSG:4326')\n",
    "region = gpd.read_file('original_data/Сиверское городское поселение.geojson').to_crs('EPSG:4326')\n",
    "\n",
    "# all buildings - living\n",
    "buildings = gpd.read_file('collected_data/balanced_buildings.geojson')\n",
    "buildings['building:levels'] = buildings['building:levels'].astype(int)\n",
    "buildings_p = buildings.copy()\n",
    "buildings_p['geometry'] = buildings_p['geometry'].centroid.to_crs('EPSG:4326')"
   ]
  },
  {
   "cell_type": "code",
   "execution_count": null,
   "metadata": {
    "vscode": {
     "languageId": "plaintext"
    }
   },
   "outputs": [],
   "source": [
    "# CONSTANTS FOR THIS PROJECT\n",
    "utm_system = utm.from_latlon(territory.loc[0, 'geometry'].centroid.y, territory.loc[0, 'geometry'].centroid.x) # find UTM zone\n",
    "LOCAL_CRS = 'EPSG:326' + str(utm_system[2])\n",
    "centre_territory = territory.to_crs(LOCAL_CRS).loc[0, 'geometry'].centroid\n",
    "territory_area_he = territory.to_crs(LOCAL_CRS).area / 10000"
   ]
  },
  {
   "cell_type": "code",
   "execution_count": null,
   "metadata": {
    "vscode": {
     "languageId": "plaintext"
    }
   },
   "outputs": [],
   "source": [
    "# create hexagones for future analysis hex_area = 1.26 he\n",
    "hex_city = h3fy(city, resolution=10, clip=True, buffer=False, return_geoms=True).reset_index()\n",
    "hex_territory = h3fy(territory, resolution=10, clip=True, buffer=False, return_geoms=True).to_crs(LOCAL_CRS).reset_index()\n",
    "\n",
    "# set_default_parameters\n",
    "hex_territory['landuse'] = 'not_defined'\n",
    "hex_territory['func_zone'] = 'not_defined'\n",
    "\n",
    "hex_territory['score_industrial'] = 0\n",
    "hex_territory['score_social'] = 0\n",
    "hex_territory['score_middle_living'] = 0\n",
    "hex_territory['score_low_living'] = 0\n",
    "hex_territory['score_cottage_living'] = 0\n",
    "hex_territory['score_garden'] = 0\n",
    "hex_territory['score_park'] = 0\n",
    "hex_territory['score_green_buffer'] = 0\n",
    "hex_territory['fixed'] = 0\n",
    "\n",
    "# get base data merge hex and floors\n",
    "for i in range(len(hex_city)):\n",
    "        # Выбор точек внутри полигона\n",
    "    points_within_polygon = buildings_p[buildings_p.geometry.within(hex_city.geometry[i])]\n",
    "    # Группировка значений\n",
    "    grouped_values = points_within_polygon.groupby('is_living')['building:levels'].mean().reset_index()\n",
    "    hex_city.loc[i, 'Floors'] = grouped_values['building:levels'].max()\n",
    "    grouped_values['population'] = 0"
   ]
  }
 ],
 "metadata": {
  "language_info": {
   "name": "python"
  }
 },
 "nbformat": 4,
 "nbformat_minor": 2
}
